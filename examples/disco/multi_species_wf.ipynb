{
 "cells": [
  {
   "cell_type": "markdown",
   "id": "e451ae3f",
   "metadata": {},
   "source": [
    "# Multiple Species Weighting Function Calculations\n",
    "\n",
    "One of the most useful features of SK-DO is that it can compute weighting functions with respect to any number of input atmospheric species as well as surface reflectance."
   ]
  },
  {
   "cell_type": "code",
   "execution_count": 1,
   "id": "8b61b190",
   "metadata": {
    "execution": {
     "iopub.execute_input": "2023-07-27T17:12:24.979891Z",
     "iopub.status.busy": "2023-07-27T17:12:24.979433Z",
     "iopub.status.idle": "2023-07-27T17:12:25.445234Z",
     "shell.execute_reply": "2023-07-27T17:12:25.444127Z"
    }
   },
   "outputs": [],
   "source": [
    "%matplotlib inline"
   ]
  },
  {
   "cell_type": "code",
   "execution_count": 2,
   "id": "e58580cd",
   "metadata": {
    "execution": {
     "iopub.execute_input": "2023-07-27T17:12:25.449786Z",
     "iopub.status.busy": "2023-07-27T17:12:25.449469Z",
     "iopub.status.idle": "2023-07-27T17:12:25.453852Z",
     "shell.execute_reply": "2023-07-27T17:12:25.453328Z"
    }
   },
   "outputs": [
    {
     "ename": "SyntaxError",
     "evalue": "invalid syntax (2841618006.py, line 2)",
     "output_type": "error",
     "traceback": [
      "\u001b[0;36m  Cell \u001b[0;32mIn[2], line 2\u001b[0;36m\u001b[0m\n\u001b[0;31m    import sasktran.disco.interface do\u001b[0m\n\u001b[0m                                    ^\u001b[0m\n\u001b[0;31mSyntaxError\u001b[0m\u001b[0;31m:\u001b[0m invalid syntax\n"
     ]
    }
   ],
   "source": [
    "import sasktran as sk\n",
    "import sasktran.disco.interface do\n",
    "import numpy as np\n",
    "import matplotlib.pyplot as plt"
   ]
  },
  {
   "cell_type": "markdown",
   "id": "c68e4f4b",
   "metadata": {},
   "source": [
    "Start by setting up the geometry, use a SZA of 60 degrees with a pure nadir viewing geometry.  Set up the atmosphere to contain rayleigh scattering, ozone and NO2 absorption, and a Lambertian surface"
   ]
  },
  {
   "cell_type": "code",
   "execution_count": 3,
   "id": "3a6db2b0",
   "metadata": {
    "execution": {
     "iopub.execute_input": "2023-07-27T17:12:25.457047Z",
     "iopub.status.busy": "2023-07-27T17:12:25.456615Z",
     "iopub.status.idle": "2023-07-27T17:12:26.062558Z",
     "shell.execute_reply": "2023-07-27T17:12:26.061752Z"
    }
   },
   "outputs": [
    {
     "ename": "NameError",
     "evalue": "name 'sk' is not defined",
     "output_type": "error",
     "traceback": [
      "\u001b[0;31m---------------------------------------------------------------------------\u001b[0m",
      "\u001b[0;31mNameError\u001b[0m                                 Traceback (most recent call last)",
      "Cell \u001b[0;32mIn[3], line 1\u001b[0m\n\u001b[0;32m----> 1\u001b[0m geometry \u001b[38;5;241m=\u001b[39m \u001b[43msk\u001b[49m\u001b[38;5;241m.\u001b[39mNadirGeometry()\n\u001b[1;32m      2\u001b[0m geometry\u001b[38;5;241m.\u001b[39mfrom_zeniths_and_azimuth_difference(\u001b[38;5;241m60\u001b[39m, \u001b[38;5;241m0\u001b[39m, \u001b[38;5;241m0\u001b[39m)\n\u001b[1;32m      4\u001b[0m atmosphere \u001b[38;5;241m=\u001b[39m sk\u001b[38;5;241m.\u001b[39mAtmosphere()\n",
      "\u001b[0;31mNameError\u001b[0m: name 'sk' is not defined"
     ]
    }
   ],
   "source": [
    "geometry = sk.NadirGeometry()\n",
    "geometry.from_zeniths_and_azimuth_difference(60, 0, 0)\n",
    "\n",
    "atmosphere = sk.Atmosphere()\n",
    "\n",
    "# add our species\n",
    "atmosphere['rayleigh'] = sk.Species(sk.Rayleigh(), sk.MSIS90())\n",
    "atmosphere['o3'] = sk.Species(sk.O3OSIRISRes(), sk.Labow())\n",
    "atmosphere['no2'] = sk.Species(sk.NO2OSIRISRes(), sk.Pratmo())\n",
    "atmosphere.atmospheric_state = sk.MSIS90()\n",
    "\n",
    "# add our surface properties\n",
    "# setting to a scalar automatically sets the surface to be Lambertian\n",
    "atmosphere.brdf = 0.3"
   ]
  },
  {
   "cell_type": "markdown",
   "id": "e7f9fad3",
   "metadata": {},
   "source": [
    "Next we set the weighting function calculation to calculate with respect to all three species in the atmosphere as well as the surface"
   ]
  },
  {
   "cell_type": "code",
   "execution_count": 4,
   "id": "d2df49f1",
   "metadata": {
    "execution": {
     "iopub.execute_input": "2023-07-27T17:12:26.066142Z",
     "iopub.status.busy": "2023-07-27T17:12:26.065577Z",
     "iopub.status.idle": "2023-07-27T17:12:26.084079Z",
     "shell.execute_reply": "2023-07-27T17:12:26.083368Z"
    }
   },
   "outputs": [
    {
     "ename": "NameError",
     "evalue": "name 'atmosphere' is not defined",
     "output_type": "error",
     "traceback": [
      "\u001b[0;31m---------------------------------------------------------------------------\u001b[0m",
      "\u001b[0;31mNameError\u001b[0m                                 Traceback (most recent call last)",
      "Cell \u001b[0;32mIn[4], line 1\u001b[0m\n\u001b[0;32m----> 1\u001b[0m \u001b[43matmosphere\u001b[49m\u001b[38;5;241m.\u001b[39mwf_species \u001b[38;5;241m=\u001b[39m [\u001b[38;5;124m'\u001b[39m\u001b[38;5;124mrayleigh\u001b[39m\u001b[38;5;124m'\u001b[39m, \u001b[38;5;124m'\u001b[39m\u001b[38;5;124mo3\u001b[39m\u001b[38;5;124m'\u001b[39m, \u001b[38;5;124m'\u001b[39m\u001b[38;5;124mno2\u001b[39m\u001b[38;5;124m'\u001b[39m, \u001b[38;5;124m'\u001b[39m\u001b[38;5;124mbrdf\u001b[39m\u001b[38;5;124m'\u001b[39m]\n",
      "\u001b[0;31mNameError\u001b[0m: name 'atmosphere' is not defined"
     ]
    }
   ],
   "source": [
    "atmosphere.wf_species = ['rayleigh', 'o3', 'no2', 'brdf']"
   ]
  },
  {
   "cell_type": "markdown",
   "id": "2d72093c",
   "metadata": {},
   "source": [
    "Run the calculation and print the results"
   ]
  },
  {
   "cell_type": "code",
   "execution_count": 5,
   "id": "09fe4932",
   "metadata": {
    "execution": {
     "iopub.execute_input": "2023-07-27T17:12:26.088603Z",
     "iopub.status.busy": "2023-07-27T17:12:26.088218Z",
     "iopub.status.idle": "2023-07-27T17:12:26.112637Z",
     "shell.execute_reply": "2023-07-27T17:12:26.111784Z"
    }
   },
   "outputs": [
    {
     "ename": "NameError",
     "evalue": "name 'np' is not defined",
     "output_type": "error",
     "traceback": [
      "\u001b[0;31m---------------------------------------------------------------------------\u001b[0m",
      "\u001b[0;31mNameError\u001b[0m                                 Traceback (most recent call last)",
      "Cell \u001b[0;32mIn[5], line 1\u001b[0m\n\u001b[0;32m----> 1\u001b[0m wavelengths \u001b[38;5;241m=\u001b[39m \u001b[43mnp\u001b[49m\u001b[38;5;241m.\u001b[39mlinspace(\u001b[38;5;241m340\u001b[39m,\u001b[38;5;241m700\u001b[39m, \u001b[38;5;241m361\u001b[39m)\n\u001b[1;32m      2\u001b[0m engine \u001b[38;5;241m=\u001b[39m do\u001b[38;5;241m.\u001b[39mEngineDO(geometry\u001b[38;5;241m=\u001b[39mgeometry, atmosphere\u001b[38;5;241m=\u001b[39matmosphere, wavelengths\u001b[38;5;241m=\u001b[39mwavelengths)\n\u001b[1;32m      3\u001b[0m rad \u001b[38;5;241m=\u001b[39m engine\u001b[38;5;241m.\u001b[39mcalculate_radiance()\n",
      "\u001b[0;31mNameError\u001b[0m: name 'np' is not defined"
     ]
    }
   ],
   "source": [
    "wavelengths = np.linspace(340,700, 361)\n",
    "engine = do.EngineDO(geometry=geometry, atmosphere=atmosphere, wavelengths=wavelengths)\n",
    "rad = engine.calculate_radiance()\n",
    "print(rad)"
   ]
  },
  {
   "cell_type": "markdown",
   "id": "7963dd78",
   "metadata": {},
   "source": [
    "In the resulting dataset we have weighting functions for the three species as a function of altitude, and the weighting function for the surface that is not a function of altitude."
   ]
  }
 ],
 "metadata": {
  "kernelspec": {
   "display_name": "Python 3 (ipykernel)",
   "language": "python",
   "name": "python3"
  },
  "language_info": {
   "codemirror_mode": {
    "name": "ipython",
    "version": 3
   },
   "file_extension": ".py",
   "mimetype": "text/x-python",
   "name": "python",
   "nbconvert_exporter": "python",
   "pygments_lexer": "ipython3",
   "version": "3.9.17"
  }
 },
 "nbformat": 4,
 "nbformat_minor": 5
}
