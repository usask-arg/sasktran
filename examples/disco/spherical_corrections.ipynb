{
 "cells": [
  {
   "cell_type": "markdown",
   "id": "26eb3f5f",
   "metadata": {},
   "source": [
    "# Spherical Corrections\n",
    "\n",
    "SK-DO contains the ability to use spherical corrections for the line of sight.  By default spherical corrections for the solar beam are always enabled.  Here we repeat the basic radiative transfer calculation example using spherical viewing mode."
   ]
  },
  {
   "cell_type": "code",
   "execution_count": 1,
   "id": "e3e0b195",
   "metadata": {
    "execution": {
     "iopub.execute_input": "2023-07-27T17:12:28.158198Z",
     "iopub.status.busy": "2023-07-27T17:12:28.157754Z",
     "iopub.status.idle": "2023-07-27T17:12:28.622821Z",
     "shell.execute_reply": "2023-07-27T17:12:28.622016Z"
    }
   },
   "outputs": [],
   "source": [
    "%matplotlib inline"
   ]
  },
  {
   "cell_type": "code",
   "execution_count": 2,
   "id": "ce39d7c4",
   "metadata": {
    "execution": {
     "iopub.execute_input": "2023-07-27T17:12:28.626438Z",
     "iopub.status.busy": "2023-07-27T17:12:28.625925Z",
     "iopub.status.idle": "2023-07-27T17:12:28.630013Z",
     "shell.execute_reply": "2023-07-27T17:12:28.629497Z"
    }
   },
   "outputs": [
    {
     "ename": "SyntaxError",
     "evalue": "invalid syntax (2841618006.py, line 2)",
     "output_type": "error",
     "traceback": [
      "\u001b[0;36m  Cell \u001b[0;32mIn[2], line 2\u001b[0;36m\u001b[0m\n\u001b[0;31m    import sasktran.disco.interface do\u001b[0m\n\u001b[0m                                    ^\u001b[0m\n\u001b[0;31mSyntaxError\u001b[0m\u001b[0;31m:\u001b[0m invalid syntax\n"
     ]
    }
   ],
   "source": [
    "import sasktran as sk\n",
    "import sasktran.disco.interface do\n",
    "import numpy as np\n",
    "import matplotlib.pyplot as plt"
   ]
  },
  {
   "cell_type": "code",
   "execution_count": 3,
   "id": "b09c6eab",
   "metadata": {
    "execution": {
     "iopub.execute_input": "2023-07-27T17:12:28.633731Z",
     "iopub.status.busy": "2023-07-27T17:12:28.633037Z",
     "iopub.status.idle": "2023-07-27T17:12:29.239970Z",
     "shell.execute_reply": "2023-07-27T17:12:29.238877Z"
    }
   },
   "outputs": [
    {
     "ename": "NameError",
     "evalue": "name 'sk' is not defined",
     "output_type": "error",
     "traceback": [
      "\u001b[0;31m---------------------------------------------------------------------------\u001b[0m",
      "\u001b[0;31mNameError\u001b[0m                                 Traceback (most recent call last)",
      "Cell \u001b[0;32mIn[3], line 1\u001b[0m\n\u001b[0;32m----> 1\u001b[0m geometry \u001b[38;5;241m=\u001b[39m \u001b[43msk\u001b[49m\u001b[38;5;241m.\u001b[39mNadirGeometry()\n\u001b[1;32m      3\u001b[0m \u001b[38;5;66;03m# make the look vector from TEMPO to the ARG office\u001b[39;00m\n\u001b[1;32m      4\u001b[0m tempo \u001b[38;5;241m=\u001b[39m sk\u001b[38;5;241m.\u001b[39mGeodetic()\n",
      "\u001b[0;31mNameError\u001b[0m: name 'sk' is not defined"
     ]
    }
   ],
   "source": [
    "geometry = sk.NadirGeometry()\n",
    "\n",
    "# make the look vector from TEMPO to the ARG office\n",
    "tempo = sk.Geodetic()\n",
    "tempo.from_lat_lon_alt(0, -100, 35786000)\n",
    "geometry.from_lat_lon(\n",
    "    lats=52.131638, \n",
    "    lons=-106.633873,\n",
    "    elevations=0,\n",
    "    mjd=57906.843, \n",
    "    observer=tempo\n",
    ")"
   ]
  },
  {
   "cell_type": "code",
   "execution_count": 4,
   "id": "63339e97",
   "metadata": {
    "execution": {
     "iopub.execute_input": "2023-07-27T17:12:29.247151Z",
     "iopub.status.busy": "2023-07-27T17:12:29.246374Z",
     "iopub.status.idle": "2023-07-27T17:12:29.273118Z",
     "shell.execute_reply": "2023-07-27T17:12:29.272443Z"
    }
   },
   "outputs": [
    {
     "ename": "NameError",
     "evalue": "name 'sk' is not defined",
     "output_type": "error",
     "traceback": [
      "\u001b[0;31m---------------------------------------------------------------------------\u001b[0m",
      "\u001b[0;31mNameError\u001b[0m                                 Traceback (most recent call last)",
      "Cell \u001b[0;32mIn[4], line 1\u001b[0m\n\u001b[0;32m----> 1\u001b[0m atmosphere \u001b[38;5;241m=\u001b[39m \u001b[43msk\u001b[49m\u001b[38;5;241m.\u001b[39mAtmosphere()\n\u001b[1;32m      3\u001b[0m \u001b[38;5;66;03m# add our species\u001b[39;00m\n\u001b[1;32m      4\u001b[0m atmosphere[\u001b[38;5;124m'\u001b[39m\u001b[38;5;124mrayleigh\u001b[39m\u001b[38;5;124m'\u001b[39m] \u001b[38;5;241m=\u001b[39m sk\u001b[38;5;241m.\u001b[39mSpecies(sk\u001b[38;5;241m.\u001b[39mRayleigh(), sk\u001b[38;5;241m.\u001b[39mMSIS90())\n",
      "\u001b[0;31mNameError\u001b[0m: name 'sk' is not defined"
     ]
    }
   ],
   "source": [
    "atmosphere = sk.Atmosphere()\n",
    "\n",
    "# add our species\n",
    "atmosphere['rayleigh'] = sk.Species(sk.Rayleigh(), sk.MSIS90())\n",
    "atmosphere['o3'] = sk.Species(sk.O3OSIRISRes(), sk.Labow())\n",
    "atmosphere['no2'] = sk.Species(sk.NO2OSIRISRes(), sk.Pratmo())\n",
    "atmosphere.atmospheric_state = sk.MSIS90()\n",
    "\n",
    "# add our surface properties\n",
    "atmosphere.brdf = 0.3"
   ]
  },
  {
   "cell_type": "code",
   "execution_count": 5,
   "id": "54b09992",
   "metadata": {
    "execution": {
     "iopub.execute_input": "2023-07-27T17:12:29.276792Z",
     "iopub.status.busy": "2023-07-27T17:12:29.276550Z",
     "iopub.status.idle": "2023-07-27T17:12:29.308055Z",
     "shell.execute_reply": "2023-07-27T17:12:29.307235Z"
    }
   },
   "outputs": [
    {
     "ename": "NameError",
     "evalue": "name 'np' is not defined",
     "output_type": "error",
     "traceback": [
      "\u001b[0;31m---------------------------------------------------------------------------\u001b[0m",
      "\u001b[0;31mNameError\u001b[0m                                 Traceback (most recent call last)",
      "Cell \u001b[0;32mIn[5], line 1\u001b[0m\n\u001b[0;32m----> 1\u001b[0m wavelengths \u001b[38;5;241m=\u001b[39m \u001b[43mnp\u001b[49m\u001b[38;5;241m.\u001b[39mlinspace(\u001b[38;5;241m340\u001b[39m,\u001b[38;5;241m700\u001b[39m, \u001b[38;5;241m361\u001b[39m)\n\u001b[1;32m      3\u001b[0m \u001b[38;5;66;03m# Create a plane parallel model (default) and plot the results\u001b[39;00m\n\u001b[1;32m      4\u001b[0m engine \u001b[38;5;241m=\u001b[39m do\u001b[38;5;241m.\u001b[39mEngineDO(geometry\u001b[38;5;241m=\u001b[39mgeometry, atmosphere\u001b[38;5;241m=\u001b[39matmosphere, wavelengths\u001b[38;5;241m=\u001b[39mwavelengths)\n",
      "\u001b[0;31mNameError\u001b[0m: name 'np' is not defined"
     ]
    }
   ],
   "source": [
    "wavelengths = np.linspace(340,700, 361)\n",
    "\n",
    "# Create a plane parallel model (default) and plot the results\n",
    "engine = do.EngineDO(geometry=geometry, atmosphere=atmosphere, wavelengths=wavelengths)\n",
    "engine.viewing_mode = 'plane_parallel'\n",
    "\n",
    "rad = engine.calculate_radiance()\n",
    "\n",
    "# Make plot\n",
    "plt.figure()\n",
    "plt.plot(rad['wavelength'], rad['radiance'])\n",
    "plt.xlabel('Wavelength [nm]')\n",
    "plt.ylabel('Sun Normalized Radiance [/ster]')\n",
    "\n",
    "\n",
    "# Create a spherical and plot the results\n",
    "engine = do.EngineDO(geometry=geometry, atmosphere=atmosphere, wavelengths=wavelengths)\n",
    "engine.viewing_mode = 'spherical'\n",
    "\n",
    "rad = engine.calculate_radiance()\n",
    "\n",
    "# Make plot\n",
    "plt.plot(rad['wavelength'], rad['radiance'])\n",
    "plt.xlabel('Wavelength [nm]')\n",
    "plt.ylabel('Sun Normalized Radiance [/ster]')\n",
    "\n",
    "plt.legend(['Plane Parallel', 'Spherical'])\n",
    "\n",
    "plt.show()"
   ]
  }
 ],
 "metadata": {
  "kernelspec": {
   "display_name": "Python 3 (ipykernel)",
   "language": "python",
   "name": "python3"
  },
  "language_info": {
   "codemirror_mode": {
    "name": "ipython",
    "version": 3
   },
   "file_extension": ".py",
   "mimetype": "text/x-python",
   "name": "python",
   "nbconvert_exporter": "python",
   "pygments_lexer": "ipython3",
   "version": "3.9.17"
  }
 },
 "nbformat": 4,
 "nbformat_minor": 5
}
