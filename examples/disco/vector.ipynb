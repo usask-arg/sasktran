{
 "cells": [
  {
   "cell_type": "markdown",
   "id": "f7db948d",
   "metadata": {},
   "source": [
    "# Polarized Calculations\n",
    "\n",
    "SK-DO contains the ability to model the Stokes vector inside the Earth's atmosphere.  Currently we assume that V=0, i.e., there is no circular polarization.  Therefore only the I, Q, U components of the Stoke's vector are calculated.  Every stokes component is fully linearized."
   ]
  },
  {
   "cell_type": "code",
   "execution_count": 1,
   "id": "54ccd126",
   "metadata": {
    "execution": {
     "iopub.execute_input": "2023-07-27T17:12:31.157963Z",
     "iopub.status.busy": "2023-07-27T17:12:31.157541Z",
     "iopub.status.idle": "2023-07-27T17:12:31.611174Z",
     "shell.execute_reply": "2023-07-27T17:12:31.610453Z"
    }
   },
   "outputs": [],
   "source": [
    "%matplotlib inline"
   ]
  },
  {
   "cell_type": "code",
   "execution_count": 2,
   "id": "4becaf42",
   "metadata": {
    "execution": {
     "iopub.execute_input": "2023-07-27T17:12:31.614843Z",
     "iopub.status.busy": "2023-07-27T17:12:31.614315Z",
     "iopub.status.idle": "2023-07-27T17:12:31.618415Z",
     "shell.execute_reply": "2023-07-27T17:12:31.617873Z"
    }
   },
   "outputs": [
    {
     "ename": "SyntaxError",
     "evalue": "invalid syntax (2841618006.py, line 2)",
     "output_type": "error",
     "traceback": [
      "\u001b[0;36m  Cell \u001b[0;32mIn[2], line 2\u001b[0;36m\u001b[0m\n\u001b[0;31m    import sasktran.disco.interface do\u001b[0m\n\u001b[0m                                    ^\u001b[0m\n\u001b[0;31mSyntaxError\u001b[0m\u001b[0;31m:\u001b[0m invalid syntax\n"
     ]
    }
   ],
   "source": [
    "import sasktran as sk\n",
    "import sasktran.disco.interface do\n",
    "import numpy as np\n",
    "import matplotlib.pyplot as plt"
   ]
  },
  {
   "cell_type": "code",
   "execution_count": 3,
   "id": "2cb2aaef",
   "metadata": {
    "execution": {
     "iopub.execute_input": "2023-07-27T17:12:31.621307Z",
     "iopub.status.busy": "2023-07-27T17:12:31.620875Z",
     "iopub.status.idle": "2023-07-27T17:12:32.225779Z",
     "shell.execute_reply": "2023-07-27T17:12:32.225007Z"
    }
   },
   "outputs": [
    {
     "ename": "NameError",
     "evalue": "name 'sk' is not defined",
     "output_type": "error",
     "traceback": [
      "\u001b[0;31m---------------------------------------------------------------------------\u001b[0m",
      "\u001b[0;31mNameError\u001b[0m                                 Traceback (most recent call last)",
      "Cell \u001b[0;32mIn[3], line 1\u001b[0m\n\u001b[0;32m----> 1\u001b[0m geometry \u001b[38;5;241m=\u001b[39m \u001b[43msk\u001b[49m\u001b[38;5;241m.\u001b[39mNadirGeometry()\n\u001b[1;32m      2\u001b[0m geometry\u001b[38;5;241m.\u001b[39mfrom_zeniths_and_azimuth_difference(\u001b[38;5;241m80\u001b[39m, \u001b[38;5;241m30\u001b[39m, \u001b[38;5;241m45\u001b[39m)\n\u001b[1;32m      4\u001b[0m atmosphere \u001b[38;5;241m=\u001b[39m sk\u001b[38;5;241m.\u001b[39mAtmosphere()\n",
      "\u001b[0;31mNameError\u001b[0m: name 'sk' is not defined"
     ]
    }
   ],
   "source": [
    "geometry = sk.NadirGeometry()\n",
    "geometry.from_zeniths_and_azimuth_difference(80, 30, 45)\n",
    "\n",
    "atmosphere = sk.Atmosphere()\n",
    "\n",
    "# add our species\n",
    "atmosphere['rayleigh'] = sk.Species(sk.Rayleigh(), sk.MSIS90())\n",
    "atmosphere['o3'] = sk.Species(sk.O3OSIRISRes(), sk.Labow())\n",
    "atmosphere['no2'] = sk.Species(sk.NO2OSIRISRes(), sk.Pratmo())\n",
    "atmosphere.atmospheric_state = sk.MSIS90()\n",
    "\n",
    "# add our surface properties\n",
    "# setting to a scalar automatically sets the surface to be Lambertian\n",
    "atmosphere.brdf = 0.3"
   ]
  },
  {
   "cell_type": "code",
   "execution_count": 4,
   "id": "50aa1661",
   "metadata": {
    "execution": {
     "iopub.execute_input": "2023-07-27T17:12:32.229387Z",
     "iopub.status.busy": "2023-07-27T17:12:32.228805Z",
     "iopub.status.idle": "2023-07-27T17:12:32.251665Z",
     "shell.execute_reply": "2023-07-27T17:12:32.250964Z"
    }
   },
   "outputs": [
    {
     "ename": "NameError",
     "evalue": "name 'sk' is not defined",
     "output_type": "error",
     "traceback": [
      "\u001b[0;31m---------------------------------------------------------------------------\u001b[0m",
      "\u001b[0;31mNameError\u001b[0m                                 Traceback (most recent call last)",
      "Cell \u001b[0;32mIn[4], line 1\u001b[0m\n\u001b[0;32m----> 1\u001b[0m atmosphere \u001b[38;5;241m=\u001b[39m \u001b[43msk\u001b[49m\u001b[38;5;241m.\u001b[39mAtmosphere()\n\u001b[1;32m      3\u001b[0m \u001b[38;5;66;03m# add our species\u001b[39;00m\n\u001b[1;32m      4\u001b[0m atmosphere[\u001b[38;5;124m'\u001b[39m\u001b[38;5;124mrayleigh\u001b[39m\u001b[38;5;124m'\u001b[39m] \u001b[38;5;241m=\u001b[39m sk\u001b[38;5;241m.\u001b[39mSpecies(sk\u001b[38;5;241m.\u001b[39mRayleigh(), sk\u001b[38;5;241m.\u001b[39mMSIS90())\n",
      "\u001b[0;31mNameError\u001b[0m: name 'sk' is not defined"
     ]
    }
   ],
   "source": [
    "atmosphere = sk.Atmosphere()\n",
    "\n",
    "# add our species\n",
    "atmosphere['rayleigh'] = sk.Species(sk.Rayleigh(), sk.MSIS90())\n",
    "atmosphere['o3'] = sk.Species(sk.O3OSIRISRes(), sk.Labow())\n",
    "atmosphere['no2'] = sk.Species(sk.NO2OSIRISRes(), sk.Pratmo())\n",
    "atmosphere.atmospheric_state = sk.MSIS90()\n",
    "\n",
    "# add our surface properties\n",
    "atmosphere.brdf = sk.Kokhanovsky()"
   ]
  },
  {
   "cell_type": "code",
   "execution_count": 5,
   "id": "eba441f7",
   "metadata": {
    "execution": {
     "iopub.execute_input": "2023-07-27T17:12:32.254972Z",
     "iopub.status.busy": "2023-07-27T17:12:32.254416Z",
     "iopub.status.idle": "2023-07-27T17:12:32.275034Z",
     "shell.execute_reply": "2023-07-27T17:12:32.274330Z"
    }
   },
   "outputs": [
    {
     "ename": "NameError",
     "evalue": "name 'np' is not defined",
     "output_type": "error",
     "traceback": [
      "\u001b[0;31m---------------------------------------------------------------------------\u001b[0m",
      "\u001b[0;31mNameError\u001b[0m                                 Traceback (most recent call last)",
      "Cell \u001b[0;32mIn[5], line 1\u001b[0m\n\u001b[0;32m----> 1\u001b[0m wavelengths \u001b[38;5;241m=\u001b[39m \u001b[43mnp\u001b[49m\u001b[38;5;241m.\u001b[39mlinspace(\u001b[38;5;241m340\u001b[39m,\u001b[38;5;241m700\u001b[39m, \u001b[38;5;241m361\u001b[39m)\n\u001b[1;32m      2\u001b[0m engine \u001b[38;5;241m=\u001b[39m do\u001b[38;5;241m.\u001b[39mEngineDO(geometry\u001b[38;5;241m=\u001b[39mgeometry, atmosphere\u001b[38;5;241m=\u001b[39matmosphere, wavelengths\u001b[38;5;241m=\u001b[39mwavelengths)\n\u001b[1;32m      4\u001b[0m engine\u001b[38;5;241m.\u001b[39mnum_stokes \u001b[38;5;241m=\u001b[39m \u001b[38;5;241m3\u001b[39m\n",
      "\u001b[0;31mNameError\u001b[0m: name 'np' is not defined"
     ]
    }
   ],
   "source": [
    "wavelengths = np.linspace(340,700, 361)\n",
    "engine = do.EngineDO(geometry=geometry, atmosphere=atmosphere, wavelengths=wavelengths)\n",
    "\n",
    "engine.num_stokes = 3\n",
    "engine.num_streams = 4\n",
    "\n",
    "rad = engine.calculate_radiance()\n",
    "print(rad)"
   ]
  },
  {
   "cell_type": "code",
   "execution_count": 6,
   "id": "7837dd1c",
   "metadata": {
    "execution": {
     "iopub.execute_input": "2023-07-27T17:12:32.277907Z",
     "iopub.status.busy": "2023-07-27T17:12:32.277664Z",
     "iopub.status.idle": "2023-07-27T17:12:32.302205Z",
     "shell.execute_reply": "2023-07-27T17:12:32.301475Z"
    }
   },
   "outputs": [
    {
     "ename": "NameError",
     "evalue": "name 'plt' is not defined",
     "output_type": "error",
     "traceback": [
      "\u001b[0;31m---------------------------------------------------------------------------\u001b[0m",
      "\u001b[0;31mNameError\u001b[0m                                 Traceback (most recent call last)",
      "Cell \u001b[0;32mIn[6], line 2\u001b[0m\n\u001b[1;32m      1\u001b[0m \u001b[38;5;66;03m# Make plot\u001b[39;00m\n\u001b[0;32m----> 2\u001b[0m \u001b[43mplt\u001b[49m\u001b[38;5;241m.\u001b[39mfigure()\n\u001b[1;32m      3\u001b[0m plt\u001b[38;5;241m.\u001b[39mplot(rad[\u001b[38;5;124m'\u001b[39m\u001b[38;5;124mwavelength\u001b[39m\u001b[38;5;124m'\u001b[39m], rad[\u001b[38;5;124m'\u001b[39m\u001b[38;5;124mradiance\u001b[39m\u001b[38;5;124m'\u001b[39m]\u001b[38;5;241m.\u001b[39misel(stokes\u001b[38;5;241m=\u001b[39m\u001b[38;5;241m0\u001b[39m))\n\u001b[1;32m      4\u001b[0m plt\u001b[38;5;241m.\u001b[39mplot(rad[\u001b[38;5;124m'\u001b[39m\u001b[38;5;124mwavelength\u001b[39m\u001b[38;5;124m'\u001b[39m], rad[\u001b[38;5;124m'\u001b[39m\u001b[38;5;124mradiance\u001b[39m\u001b[38;5;124m'\u001b[39m]\u001b[38;5;241m.\u001b[39misel(stokes\u001b[38;5;241m=\u001b[39m\u001b[38;5;241m1\u001b[39m))\n",
      "\u001b[0;31mNameError\u001b[0m: name 'plt' is not defined"
     ]
    }
   ],
   "source": [
    "# Make plot\n",
    "plt.figure()\n",
    "plt.plot(rad['wavelength'], rad['radiance'].isel(stokes=0))\n",
    "plt.plot(rad['wavelength'], rad['radiance'].isel(stokes=1))\n",
    "plt.plot(rad['wavelength'], rad['radiance'].isel(stokes=2))\n",
    "\n",
    "\n",
    "plt.xlabel('Wavelength [nm]')\n",
    "plt.ylabel('Sun Normalized Radiance [/ster]')\n",
    "\n",
    "plt.legend(['I', 'Q', 'U'])\n",
    "plt.show()"
   ]
  }
 ],
 "metadata": {
  "kernelspec": {
   "display_name": "Python 3 (ipykernel)",
   "language": "python",
   "name": "python3"
  },
  "language_info": {
   "codemirror_mode": {
    "name": "ipython",
    "version": 3
   },
   "file_extension": ".py",
   "mimetype": "text/x-python",
   "name": "python",
   "nbconvert_exporter": "python",
   "pygments_lexer": "ipython3",
   "version": "3.9.17"
  }
 },
 "nbformat": 4,
 "nbformat_minor": 5
}
