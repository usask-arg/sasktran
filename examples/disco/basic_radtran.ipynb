{
 "cells": [
  {
   "cell_type": "markdown",
   "metadata": {},
   "source": [
    "# Basic Radiative Transfer Calculation\n",
    "\n",
    "In this example we will calculate radiances from 340 nm to 700 nm in 1 nm steps using SASKTRAN-Disco. The geometry will be configured to be TEMPO looking at the ARG office on June 2 2017 at 3:14 PM and the atmosphere will be configured to consider Rayleigh scattering, O<sub>3</sub>, and NO<sub>2</sub>."
   ]
  },
  {
   "cell_type": "code",
   "execution_count": 1,
   "metadata": {
    "execution": {
     "iopub.execute_input": "2023-07-27T17:12:16.205099Z",
     "iopub.status.busy": "2023-07-27T17:12:16.204842Z",
     "iopub.status.idle": "2023-07-27T17:12:16.662418Z",
     "shell.execute_reply": "2023-07-27T17:12:16.661367Z"
    }
   },
   "outputs": [],
   "source": [
    "%matplotlib inline"
   ]
  },
  {
   "cell_type": "code",
   "execution_count": 2,
   "metadata": {
    "execution": {
     "iopub.execute_input": "2023-07-27T17:12:16.666318Z",
     "iopub.status.busy": "2023-07-27T17:12:16.665667Z",
     "iopub.status.idle": "2023-07-27T17:12:16.671543Z",
     "shell.execute_reply": "2023-07-27T17:12:16.670755Z"
    }
   },
   "outputs": [
    {
     "ename": "SyntaxError",
     "evalue": "invalid syntax (2841618006.py, line 2)",
     "output_type": "error",
     "traceback": [
      "\u001b[0;36m  Cell \u001b[0;32mIn[2], line 2\u001b[0;36m\u001b[0m\n\u001b[0;31m    import sasktran.disco.interface do\u001b[0m\n\u001b[0m                                    ^\u001b[0m\n\u001b[0;31mSyntaxError\u001b[0m\u001b[0;31m:\u001b[0m invalid syntax\n"
     ]
    }
   ],
   "source": [
    "import sasktran as sk\n",
    "import sasktran.disco.interface do\n",
    "import numpy as np\n",
    "import matplotlib.pyplot as plt"
   ]
  },
  {
   "cell_type": "markdown",
   "metadata": {},
   "source": [
    "First we need to configure our sk.Geometry object. This object specifies the\n",
    "line of sight vectors as well as the solar position (based on mean mjd)."
   ]
  },
  {
   "cell_type": "code",
   "execution_count": 3,
   "metadata": {
    "execution": {
     "iopub.execute_input": "2023-07-27T17:12:16.674565Z",
     "iopub.status.busy": "2023-07-27T17:12:16.674035Z",
     "iopub.status.idle": "2023-07-27T17:12:17.270992Z",
     "shell.execute_reply": "2023-07-27T17:12:17.270233Z"
    }
   },
   "outputs": [
    {
     "ename": "NameError",
     "evalue": "name 'sk' is not defined",
     "output_type": "error",
     "traceback": [
      "\u001b[0;31m---------------------------------------------------------------------------\u001b[0m",
      "\u001b[0;31mNameError\u001b[0m                                 Traceback (most recent call last)",
      "Cell \u001b[0;32mIn[3], line 1\u001b[0m\n\u001b[0;32m----> 1\u001b[0m geometry \u001b[38;5;241m=\u001b[39m \u001b[43msk\u001b[49m\u001b[38;5;241m.\u001b[39mNadirGeometry()\n\u001b[1;32m      3\u001b[0m \u001b[38;5;66;03m# make the look vector from TEMPO to the ARG office\u001b[39;00m\n\u001b[1;32m      4\u001b[0m tempo \u001b[38;5;241m=\u001b[39m sk\u001b[38;5;241m.\u001b[39mGeodetic()\n",
      "\u001b[0;31mNameError\u001b[0m: name 'sk' is not defined"
     ]
    }
   ],
   "source": [
    "geometry = sk.NadirGeometry()\n",
    "\n",
    "# make the look vector from TEMPO to the ARG office\n",
    "tempo = sk.Geodetic()\n",
    "tempo.from_lat_lon_alt(0, -100, 35786000)\n",
    "geometry.from_lat_lon(\n",
    "    lats=52.131638, \n",
    "    lons=-106.633873,\n",
    "    elevations=0,\n",
    "    mjd=57906.843, \n",
    "    observer=tempo\n",
    ")"
   ]
  },
  {
   "cell_type": "markdown",
   "metadata": {},
   "source": [
    "Next we need to configure our sk.Atmosphere object. This object specifies all\n",
    "atmospheric and surface properties to the engine."
   ]
  },
  {
   "cell_type": "code",
   "execution_count": 4,
   "metadata": {
    "execution": {
     "iopub.execute_input": "2023-07-27T17:12:17.274659Z",
     "iopub.status.busy": "2023-07-27T17:12:17.274258Z",
     "iopub.status.idle": "2023-07-27T17:12:17.296974Z",
     "shell.execute_reply": "2023-07-27T17:12:17.296269Z"
    }
   },
   "outputs": [
    {
     "ename": "NameError",
     "evalue": "name 'sk' is not defined",
     "output_type": "error",
     "traceback": [
      "\u001b[0;31m---------------------------------------------------------------------------\u001b[0m",
      "\u001b[0;31mNameError\u001b[0m                                 Traceback (most recent call last)",
      "Cell \u001b[0;32mIn[4], line 1\u001b[0m\n\u001b[0;32m----> 1\u001b[0m atmosphere \u001b[38;5;241m=\u001b[39m \u001b[43msk\u001b[49m\u001b[38;5;241m.\u001b[39mAtmosphere()\n\u001b[1;32m      3\u001b[0m \u001b[38;5;66;03m# add our species\u001b[39;00m\n\u001b[1;32m      4\u001b[0m atmosphere[\u001b[38;5;124m'\u001b[39m\u001b[38;5;124mrayleigh\u001b[39m\u001b[38;5;124m'\u001b[39m] \u001b[38;5;241m=\u001b[39m sk\u001b[38;5;241m.\u001b[39mSpecies(sk\u001b[38;5;241m.\u001b[39mRayleigh(), sk\u001b[38;5;241m.\u001b[39mMSIS90())\n",
      "\u001b[0;31mNameError\u001b[0m: name 'sk' is not defined"
     ]
    }
   ],
   "source": [
    "atmosphere = sk.Atmosphere()\n",
    "\n",
    "# add our species\n",
    "atmosphere['rayleigh'] = sk.Species(sk.Rayleigh(), sk.MSIS90())\n",
    "atmosphere['o3'] = sk.Species(sk.O3OSIRISRes(), sk.Labow())\n",
    "atmosphere['no2'] = sk.Species(sk.NO2OSIRISRes(), sk.Pratmo())\n",
    "atmosphere.atmospheric_state = sk.MSIS90()\n",
    "\n",
    "# add our surface properties\n",
    "atmosphere.brdf = sk.Kokhanovsky()"
   ]
  },
  {
   "cell_type": "markdown",
   "metadata": {},
   "source": [
    "We are now ready to perform the radiance calculation. Note that the engine can\n",
    "be default constructed (with properties set after construction), or the\n",
    "properties can be passed to the constructor."
   ]
  },
  {
   "cell_type": "code",
   "execution_count": 5,
   "metadata": {
    "execution": {
     "iopub.execute_input": "2023-07-27T17:12:17.300098Z",
     "iopub.status.busy": "2023-07-27T17:12:17.299867Z",
     "iopub.status.idle": "2023-07-27T17:12:17.318930Z",
     "shell.execute_reply": "2023-07-27T17:12:17.318210Z"
    }
   },
   "outputs": [
    {
     "ename": "NameError",
     "evalue": "name 'np' is not defined",
     "output_type": "error",
     "traceback": [
      "\u001b[0;31m---------------------------------------------------------------------------\u001b[0m",
      "\u001b[0;31mNameError\u001b[0m                                 Traceback (most recent call last)",
      "Cell \u001b[0;32mIn[5], line 1\u001b[0m\n\u001b[0;32m----> 1\u001b[0m wavelengths \u001b[38;5;241m=\u001b[39m \u001b[43mnp\u001b[49m\u001b[38;5;241m.\u001b[39mlinspace(\u001b[38;5;241m340\u001b[39m,\u001b[38;5;241m700\u001b[39m, \u001b[38;5;241m361\u001b[39m)\n\u001b[1;32m      2\u001b[0m engine \u001b[38;5;241m=\u001b[39m do\u001b[38;5;241m.\u001b[39mEngineDO(geometry\u001b[38;5;241m=\u001b[39mgeometry, atmosphere\u001b[38;5;241m=\u001b[39matmosphere, wavelengths\u001b[38;5;241m=\u001b[39mwavelengths)\n\u001b[1;32m      3\u001b[0m rad \u001b[38;5;241m=\u001b[39m engine\u001b[38;5;241m.\u001b[39mcalculate_radiance()\n",
      "\u001b[0;31mNameError\u001b[0m: name 'np' is not defined"
     ]
    }
   ],
   "source": [
    "wavelengths = np.linspace(340,700, 361)\n",
    "engine = do.EngineDO(geometry=geometry, atmosphere=atmosphere, wavelengths=wavelengths)\n",
    "rad = engine.calculate_radiance()"
   ]
  },
  {
   "cell_type": "code",
   "execution_count": 6,
   "metadata": {
    "execution": {
     "iopub.execute_input": "2023-07-27T17:12:17.322054Z",
     "iopub.status.busy": "2023-07-27T17:12:17.321820Z",
     "iopub.status.idle": "2023-07-27T17:12:17.341106Z",
     "shell.execute_reply": "2023-07-27T17:12:17.340428Z"
    },
    "scrolled": true
   },
   "outputs": [
    {
     "ename": "NameError",
     "evalue": "name 'plt' is not defined",
     "output_type": "error",
     "traceback": [
      "\u001b[0;31m---------------------------------------------------------------------------\u001b[0m",
      "\u001b[0;31mNameError\u001b[0m                                 Traceback (most recent call last)",
      "Cell \u001b[0;32mIn[6], line 2\u001b[0m\n\u001b[1;32m      1\u001b[0m \u001b[38;5;66;03m# Make plot\u001b[39;00m\n\u001b[0;32m----> 2\u001b[0m \u001b[43mplt\u001b[49m\u001b[38;5;241m.\u001b[39mfigure()\n\u001b[1;32m      3\u001b[0m plt\u001b[38;5;241m.\u001b[39mplot(rad[\u001b[38;5;124m'\u001b[39m\u001b[38;5;124mwavelength\u001b[39m\u001b[38;5;124m'\u001b[39m], rad[\u001b[38;5;124m'\u001b[39m\u001b[38;5;124mradiance\u001b[39m\u001b[38;5;124m'\u001b[39m])\n\u001b[1;32m      4\u001b[0m plt\u001b[38;5;241m.\u001b[39mxlabel(\u001b[38;5;124m'\u001b[39m\u001b[38;5;124mWavelength [nm]\u001b[39m\u001b[38;5;124m'\u001b[39m)\n",
      "\u001b[0;31mNameError\u001b[0m: name 'plt' is not defined"
     ]
    }
   ],
   "source": [
    "# Make plot\n",
    "plt.figure()\n",
    "plt.plot(rad['wavelength'], rad['radiance'])\n",
    "plt.xlabel('Wavelength [nm]')\n",
    "plt.ylabel('Sun Normalized Radiance [/ster]')\n",
    "plt.show()"
   ]
  }
 ],
 "metadata": {
  "kernelspec": {
   "display_name": "Python 3 (ipykernel)",
   "language": "python",
   "name": "python3"
  },
  "language_info": {
   "codemirror_mode": {
    "name": "ipython",
    "version": 3
   },
   "file_extension": ".py",
   "mimetype": "text/x-python",
   "name": "python",
   "nbconvert_exporter": "python",
   "pygments_lexer": "ipython3",
   "version": "3.9.17"
  }
 },
 "nbformat": 4,
 "nbformat_minor": 2
}
