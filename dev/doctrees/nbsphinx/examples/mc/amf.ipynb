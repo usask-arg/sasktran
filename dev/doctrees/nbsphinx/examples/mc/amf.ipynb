{
 "cells": [
  {
   "cell_type": "markdown",
   "metadata": {},
   "source": [
    "# Air Mass Factor Calculation with MC\n",
    "\n",
    "In this example we calculate a box air mass factor profile by tracking the length of each ray within each atmospheric \"box\" (layer)."
   ]
  },
  {
   "cell_type": "code",
   "execution_count": 1,
   "metadata": {},
   "outputs": [],
   "source": [
    "%matplotlib inline"
   ]
  },
  {
   "cell_type": "code",
   "execution_count": 2,
   "metadata": {},
   "outputs": [],
   "source": [
    "import sasktran as sk\n",
    "import matplotlib.pyplot as plt\n",
    "import numpy as np\n",
    "from sasktran.geometry import VerticalImage\n",
    "\n",
    "# First recreate our geometry and atmosphere classes\n",
    "geometry = sk.NadirGeometry()\n",
    "\n",
    "tempo = sk.Geodetic()\n",
    "tempo.from_lat_lon_alt(0, -100, 35786000)\n",
    "\n",
    "geometry.from_lat_lon(lats=52.131638, lons=-106.633873, elevations=0,\n",
    "    mjd=57906.843, observer=tempo\n",
    ")\n",
    "\n",
    "atmosphere = sk.Atmosphere()\n",
    "atmosphere['ozone'] = sk.Species(sk.O3OSIRISRes(), sk.Labow())\n",
    "atmosphere['air'] = sk.Species(sk.Rayleigh(), sk.MSIS90())\n",
    "atmosphere['no2'] = sk.Species(sk.NO2OSIRISRes(), sk.Pratmo())\n",
    "atmosphere.brdf = 0.05\n",
    "\n",
    "# And now make the engine\n",
    "engine = sk.EngineMC(geometry=geometry, atmosphere=atmosphere)\n",
    "\n",
    "engine.max_photons_per_los = 1000  # cap the calculation at 1000 rays per line of sight\n",
    "engine.solar_table_type = 0        # calculate single scatter source terms on the fly; no cache\n",
    "engine.debug_mode = 1234           # disable multi-threading, fix rng seed for reproducibility\n",
    "engine.min_fraction_higher_order = 1  # disable higher order optimization\n",
    "\n",
    "engine.air_mass_factor = 1         # calculate air mass factors using path length\n",
    "engine.air_mass_factor_shells = np.linspace(0, 6e4, 61)  # define amf layers\n",
    "\n",
    "# Choose a wavelength to do the calculation at\n",
    "engine.wavelengths = [440.]\n",
    "\n",
    "# And do the calculation\n",
    "engine_output = engine.calculate_radiance()"
   ]
  },
  {
   "cell_type": "code",
   "execution_count": 3,
   "metadata": {},
   "outputs": [
    {
     "data": {
      "image/png": "[encoded data removed]",
      "text/plain": [
       "<Figure size 432x288 with 1 Axes>"
      ]
     },
     "metadata": {
      "needs_background": "light"
     },
     "output_type": "display_data"
    }
   ],
   "source": [
    "alts = 5e-4 * (engine.air_mass_factor_shells[:-1] + engine.air_mass_factor_shells[1:])\n",
    "amf = engine_output.air_mass_factor[0][0]\n",
    "stdev = np.sqrt(engine_output.air_mass_factor_variance[0][0])\n",
    "\n",
    "plt.plot(amf, alts, 'C0')\n",
    "plt.fill_betweenx(alts, amf - stdev, amf + stdev, color='C0', alpha=0.5)\n",
    "plt.xlim([0, 3.5])\n",
    "plt.xlabel('Box Air Mass Factor')\n",
    "plt.ylabel('Altitude [km]')   \n",
    "\n",
    "plt.show()"
   ]
  }
 ],
 "metadata": {
  "kernelspec": {
   "display_name": "Python 3",
   "language": "python",
   "name": "python3"
  },
  "language_info": {
   "codemirror_mode": {
    "name": "ipython",
    "version": 3
   },
   "file_extension": ".py",
   "mimetype": "text/x-python",
   "name": "python",
   "nbconvert_exporter": "python",
   "pygments_lexer": "ipython3",
   "version": "3.8.5"
  }
 },
 "nbformat": 4,
 "nbformat_minor": 2
}
