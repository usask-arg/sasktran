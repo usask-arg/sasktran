{
 "cells": [
  {
   "cell_type": "markdown",
   "metadata": {},
   "source": [
    "# Constructing the Geometry"
   ]
  },
  {
   "cell_type": "raw",
   "metadata": {
    "raw_mimetype": "text/restructuredtext"
   },
   "source": [
    "What is the Geometry?\n",
    "---------------------\n",
    "\n",
    "Along with the :py:class:`Atmosphere <sasktran.Atmosphere>`, the :py:class:`Geometry <sasktran.Geometry>` object is one of the fundamental inputs required for a radiative transfer calculation.  \n",
    "\n",
    "At its core the :py:class:`Geometry <sasktran.Geometry>` object is just a list of :py:class:`LineOfSight <sasktran.LineOfSight>`.  Each :py:class:`LineOfSight <sasktran.LineOfSight>` represents the geometry of a single measurements and is made up by three things:\n",
    "\n",
    "* The observer position in geocentric coordinates.  For example, [3.676013154788849600e+005, 1.009976313640051500e+006, -6.871601202127538600e+006].\n",
    "\n",
    "* A unit look vector also in geocentric coordinates.  For example, [2.884568631765662100e-001, 7.925287180643269000e-001,  5.372996083468238900e-001].\n",
    "\n",
    "* The time of the measurement, represented as a Modified Julian Date, for example, 54832.5.  The time field is used to calculate the solar position.\n",
    "\n",
    "Putting these three things together we can create the :py:class:`LineOfSight <sasktran.LineOfSight>`"
   ]
  },
  {
   "cell_type": "code",
   "execution_count": 1,
   "metadata": {
    "execution": {
     "iopub.execute_input": "2023-07-28T15:28:18.946862Z",
     "iopub.status.busy": "2023-07-28T15:28:18.946629Z",
     "iopub.status.idle": "2023-07-28T15:28:19.213740Z",
     "shell.execute_reply": "2023-07-28T15:28:19.213020Z"
    }
   },
   "outputs": [
    {
     "name": "stdout",
     "output_type": "stream",
     "text": [
      "Observer: [367601.31547888496, 1009976.3136400515, -6871601.202127539]\n",
      "Look: [0.2884568631765662, 0.7925287180643269, 0.5372996083468239]\n",
      "MJD: 54832.5\n"
     ]
    }
   ],
   "source": [
    "import sasktran as sk\n",
    "\n",
    "line_of_sight = sk.LineOfSight(observer=[3.676013154788849600e+005, 1.009976313640051500e+006, -6.871601202127538600e+006],\n",
    "                              look_vector=[2.884568631765662100e-001, 7.925287180643269000e-001,  5.372996083468238900e-001],\n",
    "                              mjd=54832.5)\n",
    "\n",
    "print(line_of_sight)"
   ]
  },
  {
   "cell_type": "raw",
   "metadata": {
    "raw_mimetype": "text/restructuredtext"
   },
   "source": [
    "For lines of sight that are limb viewing, each line of sight is often referred to from its tangent point"
   ]
  },
  {
   "cell_type": "code",
   "execution_count": 2,
   "metadata": {
    "execution": {
     "iopub.execute_input": "2023-07-28T15:28:19.254237Z",
     "iopub.status.busy": "2023-07-28T15:28:19.253469Z",
     "iopub.status.idle": "2023-07-28T15:28:19.595294Z",
     "shell.execute_reply": "2023-07-28T15:28:19.594767Z"
    }
   },
   "outputs": [
    {
     "name": "stdout",
     "output_type": "stream",
     "text": [
      "ISKGeodetic: IAU 1976\n",
      " Latitude: -57.49972665236872, Longitude: 70.0, Altitude: 10002.995934463106\n"
     ]
    }
   ],
   "source": [
    "print(line_of_sight.tangent_location())"
   ]
  },
  {
   "cell_type": "raw",
   "metadata": {
    "raw_mimetype": "text/restructuredtext"
   },
   "source": [
    "Multiple lines of sights can be created in the same fashion"
   ]
  },
  {
   "cell_type": "code",
   "execution_count": 3,
   "metadata": {
    "execution": {
     "iopub.execute_input": "2023-07-28T15:28:19.598083Z",
     "iopub.status.busy": "2023-07-28T15:28:19.597713Z",
     "iopub.status.idle": "2023-07-28T15:28:19.601735Z",
     "shell.execute_reply": "2023-07-28T15:28:19.601268Z"
    }
   },
   "outputs": [
    {
     "name": "stdout",
     "output_type": "stream",
     "text": [
      "ISKGeodetic: IAU 1976\n",
      " Latitude: -57.49967210182743, Longitude: 70.0, Altitude: 12002.995966422488\n"
     ]
    }
   ],
   "source": [
    "line_of_sight_2 = sk.LineOfSight(observer=[3.692808540679614500e+005, 1.014590807988641800e+006, -6.870844156040793300e+006],\n",
    "                                 look_vector=[2.884568631765662100e-001, 7.925287180643269000e-001,  5.372996083468238900e-001],\n",
    "                                 mjd=54832.5)\n",
    "\n",
    "print(line_of_sight_2.tangent_location())"
   ]
  },
  {
   "cell_type": "raw",
   "metadata": {
    "raw_mimetype": "text/restructuredtext"
   },
   "source": [
    "The :py:class:`Geometry <sasktran.Geometry>` object is just a collection of these :py:class:`LineOfSight <sasktran.LineOfSight>`"
   ]
  },
  {
   "cell_type": "code",
   "execution_count": 4,
   "metadata": {
    "execution": {
     "iopub.execute_input": "2023-07-28T15:28:19.604168Z",
     "iopub.status.busy": "2023-07-28T15:28:19.603841Z",
     "iopub.status.idle": "2023-07-28T15:28:19.606963Z",
     "shell.execute_reply": "2023-07-28T15:28:19.606513Z"
    }
   },
   "outputs": [
    {
     "name": "stdout",
     "output_type": "stream",
     "text": [
      "Geometry object containing 2 lines of sight\n"
     ]
    }
   ],
   "source": [
    "geometry = sk.Geometry()\n",
    "\n",
    "geometry.lines_of_sight = [line_of_sight, line_of_sight_2]\n",
    "\n",
    "print(geometry)"
   ]
  },
  {
   "cell_type": "raw",
   "metadata": {
    "raw_mimetype": "text/restructuredtext"
   },
   "source": [
    "Convenience Classes\n",
    "-------------------\n",
    "The default input for the :py:class:`Geometry <sasktran.Geometry>` are physical positions and time, which is easy to use if you are trying to model actual measurements from an actual instrument.  However, for most simulation work calculating these raw physical lines of sight can be tedious, especially if it is desired to change parameters such as the solar position (which by default is set by the average time of the measurements).  For this reason some convenience classes are provided which make geometry calculations simpler in many cases.  For limb viewing the most useful convenience class is :py:class:`VerticalImage <sasktran.geometry.VerticalImage>`, which constructs a vertical set of measurements at a single instant in time based upon the tangent altitudes and solar angles"
   ]
  },
  {
   "cell_type": "code",
   "execution_count": 5,
   "metadata": {
    "execution": {
     "iopub.execute_input": "2023-07-28T15:28:19.609453Z",
     "iopub.status.busy": "2023-07-28T15:28:19.609064Z",
     "iopub.status.idle": "2023-07-28T15:28:19.613631Z",
     "shell.execute_reply": "2023-07-28T15:28:19.613169Z"
    }
   },
   "outputs": [
    {
     "name": "stdout",
     "output_type": "stream",
     "text": [
      "Geometry object containing 4 lines of sight\n",
      "Sun position forced to [0.5       0.75      0.4330127]\n"
     ]
    }
   ],
   "source": [
    "from sasktran.geometry import VerticalImage\n",
    "\n",
    "geometry = VerticalImage()\n",
    "geometry.from_sza_saa(sza=60, saa=60, lat=0, lon=0, tanalts_km=[10, 20, 30, 40], mjd=54372, locallook=0,\n",
    "                      satalt_km=600, refalt_km=20)\n",
    "\n",
    "print(geometry)"
   ]
  },
  {
   "cell_type": "raw",
   "metadata": {
    "raw_mimetype": "text/restructuredtext"
   },
   "source": [
    "This creates a :py:class:`Geometry <sasktran.Geometry>` object with lines of sight that match the desired solar angles and tangent point information.  There is an additional message saying that the sun position is forced to a specific vector, this indicates that the sun is no longer set by the time.  The object is still made up of a list of :py:class:`LineOfSight <sasktran.LineOfSight>` objects that we can access directly."
   ]
  },
  {
   "cell_type": "code",
   "execution_count": 6,
   "metadata": {
    "execution": {
     "iopub.execute_input": "2023-07-28T15:28:19.616057Z",
     "iopub.status.busy": "2023-07-28T15:28:19.615678Z",
     "iopub.status.idle": "2023-07-28T15:28:19.619437Z",
     "shell.execute_reply": "2023-07-28T15:28:19.618944Z"
    }
   },
   "outputs": [
    {
     "name": "stdout",
     "output_type": "stream",
     "text": [
      "Observer: [ 6398137.                0.         -2835095.13067904]\n",
      "Look: [-0.00351341  0.          0.99999383]\n",
      "MJD: 54372\n",
      "-------------------------------------\n",
      "ISKGeodetic: IAU 1976\n",
      " Latitude: 0.20130169467332903, Longitude: 0.0, Altitude: 9999.930368213616\n"
     ]
    }
   ],
   "source": [
    "print(geometry.lines_of_sight[0])\n",
    "print('-------------------------------------')\n",
    "print(geometry.lines_of_sight[0].tangent_location())"
   ]
  },
  {
   "cell_type": "raw",
   "metadata": {
    "raw_mimetype": "text/restructuredtext"
   },
   "source": [
    "In cases where there is not a convenience class such as :py:class:`VerticalImage <sasktran.geometry.VerticalImage>` that matches your specific use case, there is also a low level :py:class:`Geodetic <sasktran.Geodetic>` object that can be used to help with constructing lines of sight."
   ]
  },
  {
   "cell_type": "raw",
   "metadata": {
    "raw_mimetype": "text/restructuredtext"
   },
   "source": [
    "Using the Geodetic Object\n",
    "-------------------------\n",
    "The :py:class:`Geodetic <sasktran.Geodetic>` is a class that is designed to aid with various Earth coordinate systems. One of its major uses is to from geocentric (3 element x,y,z) to latitude, longitude, height, referenced to a specific Earth geoid (by default, IAU 1976).  For example, we can convert our observer position used above,"
   ]
  },
  {
   "cell_type": "code",
   "execution_count": 7,
   "metadata": {
    "execution": {
     "iopub.execute_input": "2023-07-28T15:28:19.621912Z",
     "iopub.status.busy": "2023-07-28T15:28:19.621537Z",
     "iopub.status.idle": "2023-07-28T15:28:19.624914Z",
     "shell.execute_reply": "2023-07-28T15:28:19.624451Z"
    }
   },
   "outputs": [
    {
     "name": "stdout",
     "output_type": "stream",
     "text": [
      "ISKGeodetic: IAU 1976\n",
      " Latitude: -81.12320535369729, Longitude: 70.00000000000001, Altitude: 597895.4159141617\n"
     ]
    }
   ],
   "source": [
    "geo = sk.Geodetic()\n",
    "\n",
    "geo.from_xyz([3.692808540679614500e+005, 1.014590807988641800e+006, -6.870844156040793300e+006])\n",
    "\n",
    "print(geo)"
   ]
  },
  {
   "cell_type": "raw",
   "metadata": {
    "raw_mimetype": "text/restructuredtext"
   },
   "source": [
    "Or, we could convert our tangent point above to geocentric coordinates"
   ]
  },
  {
   "cell_type": "code",
   "execution_count": 8,
   "metadata": {
    "execution": {
     "iopub.execute_input": "2023-07-28T15:28:19.627366Z",
     "iopub.status.busy": "2023-07-28T15:28:19.626983Z",
     "iopub.status.idle": "2023-07-28T15:28:19.630438Z",
     "shell.execute_reply": "2023-07-28T15:28:19.629971Z"
    }
   },
   "outputs": [
    {
     "name": "stdout",
     "output_type": "stream",
     "text": [
      "[ 1177109.33068763  3234081.30629361 -5366123.67907112]\n"
     ]
    }
   ],
   "source": [
    "geo.from_lat_lon_alt(latitude=-57.49967218373388, longitude=70.0, altitude=12000.000104637467)\n",
    "\n",
    "print(geo.location)"
   ]
  }
 ],
 "metadata": {
  "celltoolbar": "Raw Cell Format",
  "kernelspec": {
   "display_name": "Python [default]",
   "language": "python",
   "name": "python3"
  },
  "language_info": {
   "codemirror_mode": {
    "name": "ipython",
    "version": 3
   },
   "file_extension": ".py",
   "mimetype": "text/x-python",
   "name": "python",
   "nbconvert_exporter": "python",
   "pygments_lexer": "ipython3",
   "version": "3.9.17"
  }
 },
 "nbformat": 4,
 "nbformat_minor": 2
}
