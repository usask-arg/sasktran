{
 "cells": [
  {
   "cell_type": "markdown",
   "metadata": {},
   "source": [
    "# Calculating Weighting Functions\n",
    "\n",
    "In this example we calculate weighting functions for ozone using SASKTRAN-Disco. Refer to SASKTRAN-Disco's documentation page for more documentation."
   ]
  },
  {
   "cell_type": "code",
   "execution_count": 1,
   "metadata": {
    "execution": {
     "iopub.execute_input": "2023-07-27T17:07:57.923700Z",
     "iopub.status.busy": "2023-07-27T17:07:57.923495Z",
     "iopub.status.idle": "2023-07-27T17:07:57.930879Z",
     "shell.execute_reply": "2023-07-27T17:07:57.930341Z"
    }
   },
   "outputs": [
    {
     "ename": "SyntaxError",
     "evalue": "invalid syntax (2893853967.py, line 5)",
     "output_type": "error",
     "traceback": [
      "\u001b[0;36m  Cell \u001b[0;32mIn[1], line 5\u001b[0;36m\u001b[0m\n\u001b[0;31m    import sasktran.disco.interface do\u001b[0m\n\u001b[0m                                    ^\u001b[0m\n\u001b[0;31mSyntaxError\u001b[0m\u001b[0;31m:\u001b[0m invalid syntax\n"
     ]
    }
   ],
   "source": [
    "%matplotlib inline\n",
    "\n",
    "import numpy as np\n",
    "import sasktran as sk\n",
    "import sasktran.disco.interface do\n",
    "import matplotlib.pyplot as plt"
   ]
  },
  {
   "cell_type": "code",
   "execution_count": 2,
   "metadata": {
    "execution": {
     "iopub.execute_input": "2023-07-27T17:07:57.933869Z",
     "iopub.status.busy": "2023-07-27T17:07:57.933508Z",
     "iopub.status.idle": "2023-07-27T17:07:58.416137Z",
     "shell.execute_reply": "2023-07-27T17:07:58.415488Z"
    }
   },
   "outputs": [
    {
     "ename": "NameError",
     "evalue": "name 'sk' is not defined",
     "output_type": "error",
     "traceback": [
      "\u001b[0;31m---------------------------------------------------------------------------\u001b[0m",
      "\u001b[0;31mNameError\u001b[0m                                 Traceback (most recent call last)",
      "Cell \u001b[0;32mIn[2], line 2\u001b[0m\n\u001b[1;32m      1\u001b[0m \u001b[38;5;66;03m# Setup the sk.Geometry\u001b[39;00m\n\u001b[0;32m----> 2\u001b[0m geometry \u001b[38;5;241m=\u001b[39m \u001b[43msk\u001b[49m\u001b[38;5;241m.\u001b[39mNadirGeometry()\n\u001b[1;32m      4\u001b[0m tempo \u001b[38;5;241m=\u001b[39m sk\u001b[38;5;241m.\u001b[39mGeodetic()\n\u001b[1;32m      5\u001b[0m tempo\u001b[38;5;241m.\u001b[39mfrom_lat_lon_alt(\u001b[38;5;241m0\u001b[39m, \u001b[38;5;241m-\u001b[39m\u001b[38;5;241m100\u001b[39m, \u001b[38;5;241m35786000\u001b[39m)\n",
      "\u001b[0;31mNameError\u001b[0m: name 'sk' is not defined"
     ]
    }
   ],
   "source": [
    "# Setup the sk.Geometry\n",
    "geometry = sk.NadirGeometry()\n",
    "\n",
    "tempo = sk.Geodetic()\n",
    "tempo.from_lat_lon_alt(0, -100, 35786000)\n",
    "\n",
    "geometry.from_lat_lon(lats=52.131638, lons=-106.633873, elevations=0,\n",
    "    mjd=57906.843, observer=tempo\n",
    ")\n",
    "\n",
    "# Setup the sk.Atmosphere\n",
    "atmosphere = sk.Atmosphere()\n",
    "atmosphere['rayleigh'] = sk.Species(sk.Rayleigh(), sk.MSIS90())\n",
    "atmosphere['o3'] = sk.Species(sk.O3OSIRISRes(), sk.Labow())\n",
    "atmosphere['no2'] = sk.Species(sk.NO2OSIRISRes(), sk.Pratmo())\n",
    "atmosphere.atmospheric_state = sk.MSIS90()\n",
    "atmosphere.brdf = sk.Kokhanovsky()\n",
    "\n",
    "# Construct the engine\n",
    "engine = do.EngineDO(geometry=geometry, atmosphere=atmosphere, wavelengths=[330])"
   ]
  },
  {
   "cell_type": "code",
   "execution_count": 3,
   "metadata": {
    "execution": {
     "iopub.execute_input": "2023-07-27T17:07:58.418774Z",
     "iopub.status.busy": "2023-07-27T17:07:58.418451Z",
     "iopub.status.idle": "2023-07-27T17:07:58.433232Z",
     "shell.execute_reply": "2023-07-27T17:07:58.432684Z"
    }
   },
   "outputs": [
    {
     "ename": "NameError",
     "evalue": "name 'atmosphere' is not defined",
     "output_type": "error",
     "traceback": [
      "\u001b[0;31m---------------------------------------------------------------------------\u001b[0m",
      "\u001b[0;31mNameError\u001b[0m                                 Traceback (most recent call last)",
      "Cell \u001b[0;32mIn[3], line 2\u001b[0m\n\u001b[1;32m      1\u001b[0m \u001b[38;5;66;03m# Configure the weighting function calculation\u001b[39;00m\n\u001b[0;32m----> 2\u001b[0m \u001b[43matmosphere\u001b[49m\u001b[38;5;241m.\u001b[39mwf_species \u001b[38;5;241m=\u001b[39m \u001b[38;5;124m'\u001b[39m\u001b[38;5;124mo3\u001b[39m\u001b[38;5;124m'\u001b[39m\n",
      "\u001b[0;31mNameError\u001b[0m: name 'atmosphere' is not defined"
     ]
    }
   ],
   "source": [
    "# Configure the weighting function calculation\n",
    "atmosphere.wf_species = 'o3'"
   ]
  },
  {
   "cell_type": "code",
   "execution_count": 4,
   "metadata": {
    "execution": {
     "iopub.execute_input": "2023-07-27T17:07:58.435604Z",
     "iopub.status.busy": "2023-07-27T17:07:58.435398Z",
     "iopub.status.idle": "2023-07-27T17:07:58.452042Z",
     "shell.execute_reply": "2023-07-27T17:07:58.451491Z"
    },
    "scrolled": true
   },
   "outputs": [
    {
     "ename": "NameError",
     "evalue": "name 'engine' is not defined",
     "output_type": "error",
     "traceback": [
      "\u001b[0;31m---------------------------------------------------------------------------\u001b[0m",
      "\u001b[0;31mNameError\u001b[0m                                 Traceback (most recent call last)",
      "Cell \u001b[0;32mIn[4], line 1\u001b[0m\n\u001b[0;32m----> 1\u001b[0m rad \u001b[38;5;241m=\u001b[39m \u001b[43mengine\u001b[49m\u001b[38;5;241m.\u001b[39mcalculate_radiance()\n\u001b[1;32m      3\u001b[0m \u001b[38;5;66;03m# Plot weighting function\u001b[39;00m\n\u001b[1;32m      4\u001b[0m plt\u001b[38;5;241m.\u001b[39mfigure()\n",
      "\u001b[0;31mNameError\u001b[0m: name 'engine' is not defined"
     ]
    }
   ],
   "source": [
    "rad = engine.calculate_radiance()\n",
    "\n",
    "# Plot weighting function\n",
    "plt.figure()\n",
    "rad['wf_o3'].isel(wavelength=0).plot(y='altitude')\n",
    "plt.ylabel('Altitude [m]')\n",
    "plt.xlabel('dI/dn')\n",
    "plt.show()"
   ]
  }
 ],
 "metadata": {
  "kernelspec": {
   "display_name": "Python 3 (ipykernel)",
   "language": "python",
   "name": "python3"
  },
  "language_info": {
   "codemirror_mode": {
    "name": "ipython",
    "version": 3
   },
   "file_extension": ".py",
   "mimetype": "text/x-python",
   "name": "python",
   "nbconvert_exporter": "python",
   "pygments_lexer": "ipython3",
   "version": "3.9.17"
  }
 },
 "nbformat": 4,
 "nbformat_minor": 2
}
