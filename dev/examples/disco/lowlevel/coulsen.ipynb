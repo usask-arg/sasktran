{
 "cells": [
  {
   "cell_type": "markdown",
   "metadata": {},
   "source": [
    "# Producing the Coulsen Tables with the Low-Level Interface\n",
    "\n",
    "In this example we will reproduce part of the Coulsen tables using the low level interface to SASKTRAN DO.\n",
    "These tables involve a single layer conservative scattering atmosphere with a Lambertian surface underneath."
   ]
  },
  {
   "cell_type": "code",
   "execution_count": 1,
   "metadata": {
    "execution": {
     "iopub.execute_input": "2023-09-20T17:10:03.343948Z",
     "iopub.status.busy": "2023-09-20T17:10:03.343376Z",
     "iopub.status.idle": "2023-09-20T17:10:04.332977Z",
     "shell.execute_reply": "2023-09-20T17:10:04.332138Z"
    }
   },
   "outputs": [],
   "source": [
    "%matplotlib inline\n",
    "import sasktran.disco.lowlevel as lowlevel\n",
    "import numpy as np"
   ]
  },
  {
   "cell_type": "markdown",
   "metadata": {
    "collapsed": false
   },
   "source": [
    "We can begin by setting up our configuration, we are performing a single calculation for 3 stokes parameters,\n",
    "a single layer, and we will set the number of streams to be a high number (40).  We will explicitly disable the\n",
    "pseudo spherical correction since these tables correspond to a plane parallel atmosphere.  For brevity we will\n",
    "only calculate 6 of the entries in the table.\n",
    "\n",
    "We start by creating all of the low level input objects."
   ]
  },
  {
   "cell_type": "code",
   "execution_count": 2,
   "metadata": {
    "collapsed": false,
    "execution": {
     "iopub.execute_input": "2023-09-20T17:10:04.338403Z",
     "iopub.status.busy": "2023-09-20T17:10:04.336959Z",
     "iopub.status.idle": "2023-09-20T17:10:04.343106Z",
     "shell.execute_reply": "2023-09-20T17:10:04.342162Z"
    }
   },
   "outputs": [],
   "source": [
    "nstr = 40\n",
    "nlyr = 1\n",
    "nwavel = 1\n",
    "nderiv = 0\n",
    "nstokes = 3\n",
    "nlos = 6\n",
    "\n",
    "config = lowlevel.Config(nstr, nwavel, nlyr, nstokes, 0, use_pseudo_spherical=False)\n",
    "weightingfunctions = lowlevel.WeightingFunctions(nstr, nlos, nstokes, nwavel, nderiv)\n",
    "viewing_geometry = lowlevel.ViewingGeometry(nlos)\n",
    "atmosphere = lowlevel.Atmosphere(nstr, nlyr, nwavel)"
   ]
  },
  {
   "cell_type": "markdown",
   "metadata": {
    "collapsed": false
   },
   "source": [
    "Next let's setup our viewing geometry.  We have to be slightly careful, DO uses the same definition of\n",
    "cosine solar zenith angle $\\mu_0$ (cos_sza), and viewing cosine zenith $\\mu$ (cos_vza), however we have a minus\n",
    "sign convention difference on relative azimuth angle $\\phi$ (saa)."
   ]
  },
  {
   "cell_type": "code",
   "execution_count": 3,
   "metadata": {
    "collapsed": false,
    "execution": {
     "iopub.execute_input": "2023-09-20T17:10:04.347143Z",
     "iopub.status.busy": "2023-09-20T17:10:04.346486Z",
     "iopub.status.idle": "2023-09-20T17:10:04.352443Z",
     "shell.execute_reply": "2023-09-20T17:10:04.351532Z"
    }
   },
   "outputs": [],
   "source": [
    "viewing_geometry.cos_sza = 0.2\n",
    "\n",
    "viewing_geometry.cos_vza[0] = 0.02\n",
    "viewing_geometry.cos_vza[1] = 0.2\n",
    "viewing_geometry.cos_vza[2] = 1.00\n",
    "viewing_geometry.cos_vza[3] = 0.02\n",
    "viewing_geometry.cos_vza[4] = 0.2\n",
    "viewing_geometry.cos_vza[5] = 1.00\n",
    "\n",
    "viewing_geometry.saa[0] = 0\n",
    "viewing_geometry.saa[1] = 0\n",
    "viewing_geometry.saa[2] = 0\n",
    "viewing_geometry.saa[3] = -np.pi/3\n",
    "viewing_geometry.saa[4] = -np.pi/3\n",
    "viewing_geometry.saa[5] = -np.pi/3"
   ]
  },
  {
   "cell_type": "markdown",
   "metadata": {
    "collapsed": false
   },
   "source": [
    "And finally our atmosphere optical quantities.  The table is for a single layer of optical depth 0.5 and single\n",
    "scatter albedo of 1.  The table contains only Rayleigh scattering with no depolarization factor, of which the Legendre\n",
    "coefficients are easy to calculate."
   ]
  },
  {
   "cell_type": "code",
   "execution_count": 4,
   "metadata": {
    "collapsed": false,
    "execution": {
     "iopub.execute_input": "2023-09-20T17:10:04.356282Z",
     "iopub.status.busy": "2023-09-20T17:10:04.355628Z",
     "iopub.status.idle": "2023-09-20T17:10:04.362016Z",
     "shell.execute_reply": "2023-09-20T17:10:04.361044Z"
    }
   },
   "outputs": [],
   "source": [
    "atmosphere.od[0, :] = 0.5\n",
    "\n",
    "atmosphere.ssa[0, :] = 1.0\n",
    "\n",
    "atmosphere.a1[0, 0, :] = 1\n",
    "atmosphere.a1[2, 0, :] = 0.5\n",
    "\n",
    "atmosphere.a2[2, 0, :] = 3\n",
    "\n",
    "atmosphere.a4[1, 0, :] = 3/2\n",
    "\n",
    "atmosphere.b1[2, 0, :] = np.sqrt(6.0) * 0.5"
   ]
  },
  {
   "cell_type": "markdown",
   "metadata": {
    "collapsed": false
   },
   "source": [
    "Next we set the albedo to 0"
   ]
  },
  {
   "cell_type": "code",
   "execution_count": 5,
   "metadata": {
    "collapsed": false,
    "execution": {
     "iopub.execute_input": "2023-09-20T17:10:04.365270Z",
     "iopub.status.busy": "2023-09-20T17:10:04.364710Z",
     "iopub.status.idle": "2023-09-20T17:10:04.370131Z",
     "shell.execute_reply": "2023-09-20T17:10:04.369238Z"
    }
   },
   "outputs": [],
   "source": [
    "atmosphere.albedo[0] = 0.0"
   ]
  },
  {
   "cell_type": "markdown",
   "metadata": {
    "collapsed": false
   },
   "source": [
    "And finally, even though the layer boundary altitudes are not used in this problem, we set it to an arbitrary number\n",
    "for good measure."
   ]
  },
  {
   "cell_type": "code",
   "execution_count": 6,
   "metadata": {
    "collapsed": false,
    "execution": {
     "iopub.execute_input": "2023-09-20T17:10:04.373298Z",
     "iopub.status.busy": "2023-09-20T17:10:04.372901Z",
     "iopub.status.idle": "2023-09-20T17:10:04.376360Z",
     "shell.execute_reply": "2023-09-20T17:10:04.375463Z"
    }
   },
   "outputs": [],
   "source": [
    "atmosphere.layer_boundary_altitudes[0] = 1000000"
   ]
  },
  {
   "cell_type": "markdown",
   "metadata": {
    "collapsed": false
   },
   "source": [
    "Next we perform the calculation and multiply by $\\pi$ since the tables assume a solar flux of $\\pi$ while DO\n",
    "assumes a solar flux of 1."
   ]
  },
  {
   "cell_type": "code",
   "execution_count": 7,
   "metadata": {
    "collapsed": false,
    "execution": {
     "iopub.execute_input": "2023-09-20T17:10:04.380945Z",
     "iopub.status.busy": "2023-09-20T17:10:04.380227Z",
     "iopub.status.idle": "2023-09-20T17:10:05.963236Z",
     "shell.execute_reply": "2023-09-20T17:10:05.962219Z"
    }
   },
   "outputs": [],
   "source": [
    "output = lowlevel.calculate(atmosphere, config, weightingfunctions, viewing_geometry).xarray().isel(wavelength=0)['radiance'] * np.pi"
   ]
  },
  {
   "cell_type": "markdown",
   "metadata": {
    "collapsed": false
   },
   "source": [
    "We can print the first element of the stokes vector's and see that they are the same as those in the table to ~4\n",
    "decimal places."
   ]
  },
  {
   "cell_type": "code",
   "execution_count": 8,
   "metadata": {
    "collapsed": false,
    "execution": {
     "iopub.execute_input": "2023-09-20T17:10:05.967390Z",
     "iopub.status.busy": "2023-09-20T17:10:05.967057Z",
     "iopub.status.idle": "2023-09-20T17:10:05.976479Z",
     "shell.execute_reply": "2023-09-20T17:10:05.971108Z"
    }
   },
   "outputs": [
    {
     "name": "stdout",
     "output_type": "stream",
     "text": [
      "<xarray.DataArray 'radiance' (los: 6)>\n",
      "array([0.44129254, 0.2693917 , 0.05300537, 0.30090663, 0.19367869,\n",
      "       0.05300537])\n",
      "Dimensions without coordinates: los\n"
     ]
    }
   ],
   "source": [
    "print(output.isel(stokes=0))"
   ]
  }
 ],
 "metadata": {
  "kernelspec": {
   "display_name": "Python 3 (ipykernel)",
   "language": "python",
   "name": "python3"
  },
  "language_info": {
   "codemirror_mode": {
    "name": "ipython",
    "version": 3
   },
   "file_extension": ".py",
   "mimetype": "text/x-python",
   "name": "python",
   "nbconvert_exporter": "python",
   "pygments_lexer": "ipython3",
   "version": "3.9.18"
  }
 },
 "nbformat": 4,
 "nbformat_minor": 2
}
