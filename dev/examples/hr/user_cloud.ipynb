{
 "cells": [
  {
   "cell_type": "markdown",
   "metadata": {},
   "source": [
    "# Using the Baum Ice Crystal Database with HR"
   ]
  },
  {
   "cell_type": "code",
   "execution_count": 1,
   "metadata": {
    "execution": {
     "iopub.execute_input": "2023-07-06T16:53:49.235038Z",
     "iopub.status.busy": "2023-07-06T16:53:49.234565Z",
     "iopub.status.idle": "2023-07-06T16:53:49.950362Z",
     "shell.execute_reply": "2023-07-06T16:53:49.949347Z"
    }
   },
   "outputs": [],
   "source": [
    "%matplotlib inline\n",
    "import matplotlib.pyplot as plt\n",
    "import numpy as np\n",
    "import sasktran as sk"
   ]
  },
  {
   "cell_type": "raw",
   "metadata": {
    "raw_mimetype": "text/restructuredtext"
   },
   "source": [
    "SASKTRAN supports calculations using the Baum ice crystal database.  The core of this functionality is contained within the :py:class:`BaumIceCrystal <sasktran.BaumIceCrystal>` optical property.  In principle including ice crystals is as simple as creating a climatology to go along with the optical property and adding it to the engine, however complications involving the radiative transfer of ice clouds usually means that the HR engine must be configured in a specific way to obtain accurate calculations.\n",
    "\n",
    "The :py:class:`SpeciesBaumIceCloud <sasktran.SpeciesBaumIceCloud>` species combines the :py:class:`BaumIceCrystal <sasktran.BaumIceCrystal>` optical property with a climatology that creates a Gaussian shaped cloud with a specified size and optical thickness."
   ]
  },
  {
   "cell_type": "code",
   "execution_count": 2,
   "metadata": {
    "execution": {
     "iopub.execute_input": "2023-07-06T16:53:49.954639Z",
     "iopub.status.busy": "2023-07-06T16:53:49.954259Z",
     "iopub.status.idle": "2023-07-06T16:53:51.824235Z",
     "shell.execute_reply": "2023-07-06T16:53:51.823412Z"
    }
   },
   "outputs": [
    {
     "ename": "OSError",
     "evalue": "Baum Folder is invalid, please add baum_directory: xxxx to the file /home/runner/.config/sasktran/config.yml",
     "output_type": "error",
     "traceback": [
      "\u001b[0;31m---------------------------------------------------------------------------\u001b[0m",
      "\u001b[0;31mOSError\u001b[0m                                   Traceback (most recent call last)",
      "Cell \u001b[0;32mIn[2], line 1\u001b[0m\n\u001b[0;32m----> 1\u001b[0m baum_species \u001b[38;5;241m=\u001b[39m \u001b[43msk\u001b[49m\u001b[38;5;241;43m.\u001b[39;49m\u001b[43mSpeciesBaumIceCloud\u001b[49m\u001b[43m(\u001b[49m\u001b[43mparticlesize_microns\u001b[49m\u001b[38;5;241;43m=\u001b[39;49m\u001b[38;5;241;43m20\u001b[39;49m\u001b[43m,\u001b[49m\u001b[43m \u001b[49m\n\u001b[1;32m      2\u001b[0m \u001b[43m                                      \u001b[49m\u001b[43mcloud_top_m\u001b[49m\u001b[38;5;241;43m=\u001b[39;49m\u001b[38;5;241;43m16500\u001b[39;49m\u001b[43m,\u001b[49m\n\u001b[1;32m      3\u001b[0m \u001b[43m                                      \u001b[49m\u001b[43mcloud_width_fwhm_m\u001b[49m\u001b[38;5;241;43m=\u001b[39;49m\u001b[38;5;241;43m500\u001b[39;49m\u001b[43m,\u001b[49m\n\u001b[1;32m      4\u001b[0m \u001b[43m                                      \u001b[49m\u001b[43mvertical_optical_depth\u001b[49m\u001b[38;5;241;43m=\u001b[39;49m\u001b[38;5;241;43m0.01\u001b[39;49m\u001b[43m,\u001b[49m\n\u001b[1;32m      5\u001b[0m \u001b[43m                                      \u001b[49m\u001b[43mvertical_optical_depth_wavel_nm\u001b[49m\u001b[38;5;241;43m=\u001b[39;49m\u001b[38;5;241;43m750\u001b[39;49m\u001b[43m)\u001b[49m\n",
      "File \u001b[0;32m/usr/share/miniconda/envs/doc_env/lib/python3.9/site-packages/sasktran/species.py:253\u001b[0m, in \u001b[0;36mSpeciesBaumIceCloud.__init__\u001b[0;34m(self, particlesize_microns, cloud_top_m, cloud_width_fwhm_m, vertical_optical_depth, vertical_optical_depth_wavel_nm, altitude_resolution_m, num_sigma, name)\u001b[0m\n\u001b[1;32m    249\u001b[0m \u001b[38;5;28;01mdef\u001b[39;00m \u001b[38;5;21m__init__\u001b[39m(\u001b[38;5;28mself\u001b[39m, particlesize_microns: \u001b[38;5;28mfloat\u001b[39m, cloud_top_m: \u001b[38;5;28mfloat\u001b[39m,\n\u001b[1;32m    250\u001b[0m              cloud_width_fwhm_m: \u001b[38;5;28mfloat\u001b[39m, vertical_optical_depth: \u001b[38;5;28mfloat\u001b[39m,\n\u001b[1;32m    251\u001b[0m              vertical_optical_depth_wavel_nm: \u001b[38;5;28mfloat\u001b[39m, altitude_resolution_m: \u001b[38;5;28mfloat\u001b[39m\u001b[38;5;241m=\u001b[39m\u001b[38;5;241m10\u001b[39m, num_sigma: \u001b[38;5;28mint\u001b[39m\u001b[38;5;241m=\u001b[39m\u001b[38;5;241m5\u001b[39m,\n\u001b[1;32m    252\u001b[0m              name\u001b[38;5;241m=\u001b[39m\u001b[38;5;124m'\u001b[39m\u001b[38;5;124micecloud\u001b[39m\u001b[38;5;124m'\u001b[39m):\n\u001b[0;32m--> 253\u001b[0m     optical_property \u001b[38;5;241m=\u001b[39m \u001b[43msk\u001b[49m\u001b[38;5;241;43m.\u001b[39;49m\u001b[43mBaumIceCrystal\u001b[49m\u001b[43m(\u001b[49m\u001b[43mparticlesize_microns\u001b[49m\u001b[43m)\u001b[49m\n\u001b[1;32m    255\u001b[0m     cloud_sigma \u001b[38;5;241m=\u001b[39m cloud_width_fwhm_m \u001b[38;5;241m/\u001b[39m (\u001b[38;5;241m2\u001b[39m \u001b[38;5;241m*\u001b[39m np\u001b[38;5;241m.\u001b[39msqrt(\u001b[38;5;241m2\u001b[39m \u001b[38;5;241m*\u001b[39m np\u001b[38;5;241m.\u001b[39mlog(\u001b[38;5;241m2\u001b[39m)))\n\u001b[1;32m    257\u001b[0m     \u001b[38;5;66;03m# Cloud top is defined as middle + 2 sigma\u001b[39;00m\n",
      "File \u001b[0;32m/usr/share/miniconda/envs/doc_env/lib/python3.9/site-packages/sasktran/opticalproperty.py:838\u001b[0m, in \u001b[0;36mBaumIceCrystal.__init__\u001b[0;34m(self, effective_size_microns, use_delta_eddington)\u001b[0m\n\u001b[1;32m    836\u001b[0m \u001b[38;5;28;01mdef\u001b[39;00m \u001b[38;5;21m__init__\u001b[39m(\u001b[38;5;28mself\u001b[39m, effective_size_microns, use_delta_eddington\u001b[38;5;241m=\u001b[39m\u001b[38;5;28;01mTrue\u001b[39;00m):\n\u001b[1;32m    837\u001b[0m     \u001b[38;5;28msuper\u001b[39m()\u001b[38;5;241m.\u001b[39m\u001b[38;5;21m__init__\u001b[39m(\u001b[38;5;124m'\u001b[39m\u001b[38;5;124mBAUM_ICECRYSTALS\u001b[39m\u001b[38;5;124m'\u001b[39m)\n\u001b[0;32m--> 838\u001b[0m     \u001b[38;5;28;43mself\u001b[39;49m\u001b[38;5;241;43m.\u001b[39;49m\u001b[43m_validate_registry\u001b[49m\u001b[43m(\u001b[49m\u001b[43m)\u001b[49m\n\u001b[1;32m    840\u001b[0m     \u001b[38;5;28mself\u001b[39m\u001b[38;5;241m.\u001b[39m_effective_size_microns \u001b[38;5;241m=\u001b[39m effective_size_microns\n\u001b[1;32m    841\u001b[0m     \u001b[38;5;28mself\u001b[39m\u001b[38;5;241m.\u001b[39m_use_delta_eddington \u001b[38;5;241m=\u001b[39m use_delta_eddington\n",
      "File \u001b[0;32m/usr/share/miniconda/envs/doc_env/lib/python3.9/site-packages/sasktran/opticalproperty.py:865\u001b[0m, in \u001b[0;36mBaumIceCrystal._validate_registry\u001b[0;34m()\u001b[0m\n\u001b[1;32m    863\u001b[0m \u001b[38;5;28;01mif\u001b[39;00m \u001b[38;5;129;01mnot\u001b[39;00m os\u001b[38;5;241m.\u001b[39mpath\u001b[38;5;241m.\u001b[39misfile(os\u001b[38;5;241m.\u001b[39mpath\u001b[38;5;241m.\u001b[39mjoin(baum_folder, \u001b[38;5;124m'\u001b[39m\u001b[38;5;124mGeneralHabitMixture_SeverelyRough_AllWavelengths_FullPhaseMatrix.nc\u001b[39m\u001b[38;5;124m'\u001b[39m)):\n\u001b[1;32m    864\u001b[0m     user_config \u001b[38;5;241m=\u001b[39m config\u001b[38;5;241m.\u001b[39muser_config_file_location()\n\u001b[0;32m--> 865\u001b[0m     \u001b[38;5;28;01mraise\u001b[39;00m \u001b[38;5;167;01mIOError\u001b[39;00m(\n\u001b[1;32m    866\u001b[0m         \u001b[38;5;124m'\u001b[39m\u001b[38;5;124mBaum Folder is invalid, please add baum_directory: xxxx to the file \u001b[39m\u001b[38;5;132;01m{}\u001b[39;00m\u001b[38;5;124m'\u001b[39m\u001b[38;5;241m.\u001b[39mformat(user_config))\n",
      "\u001b[0;31mOSError\u001b[0m: Baum Folder is invalid, please add baum_directory: xxxx to the file /home/runner/.config/sasktran/config.yml"
     ]
    }
   ],
   "source": [
    "baum_species = sk.SpeciesBaumIceCloud(particlesize_microns=20, \n",
    "                                      cloud_top_m=16500,\n",
    "                                      cloud_width_fwhm_m=500,\n",
    "                                      vertical_optical_depth=0.01,\n",
    "                                      vertical_optical_depth_wavel_nm=750)"
   ]
  },
  {
   "cell_type": "raw",
   "metadata": {
    "raw_mimetype": "text/restructuredtext"
   },
   "source": [
    "Which creates a cloud species that consists of 20 micron sized particles, a cloud top altitude of 16.5 km, a full width at half maximum in altitude of 500 m, and has a vertical optical depth of 0.01 at 750 nm.  Note that limb path lengths can be ~100 times that of vertical path lengths, so even a vertically thin cloud may appear thick in the limb geometry.  Shown below is the calculated Gaussian number density."
   ]
  },
  {
   "cell_type": "code",
   "execution_count": 3,
   "metadata": {
    "execution": {
     "iopub.execute_input": "2023-07-06T16:53:51.828596Z",
     "iopub.status.busy": "2023-07-06T16:53:51.828204Z",
     "iopub.status.idle": "2023-07-06T16:53:51.852856Z",
     "shell.execute_reply": "2023-07-06T16:53:51.852012Z"
    }
   },
   "outputs": [
    {
     "ename": "NameError",
     "evalue": "name 'baum_species' is not defined",
     "output_type": "error",
     "traceback": [
      "\u001b[0;31m---------------------------------------------------------------------------\u001b[0m",
      "\u001b[0;31mNameError\u001b[0m                                 Traceback (most recent call last)",
      "Cell \u001b[0;32mIn[3], line 3\u001b[0m\n\u001b[1;32m      1\u001b[0m altitudes \u001b[38;5;241m=\u001b[39m np\u001b[38;5;241m.\u001b[39marange(\u001b[38;5;241m10000\u001b[39m, \u001b[38;5;241m20000\u001b[39m, \u001b[38;5;241m10\u001b[39m)\n\u001b[0;32m----> 3\u001b[0m cloud_dens \u001b[38;5;241m=\u001b[39m \u001b[43mbaum_species\u001b[49m\u001b[38;5;241m.\u001b[39mclimatology\u001b[38;5;241m.\u001b[39mget_parameter(\u001b[38;5;124m'\u001b[39m\u001b[38;5;124micecloud\u001b[39m\u001b[38;5;124m'\u001b[39m, latitude\u001b[38;5;241m=\u001b[39m\u001b[38;5;241m0\u001b[39m, longitude\u001b[38;5;241m=\u001b[39m\u001b[38;5;241m0\u001b[39m, mjd\u001b[38;5;241m=\u001b[39m\u001b[38;5;241m54372\u001b[39m, altitudes\u001b[38;5;241m=\u001b[39maltitudes)\n\u001b[1;32m      5\u001b[0m plt\u001b[38;5;241m.\u001b[39mplot(cloud_dens, altitudes)\n\u001b[1;32m      6\u001b[0m plt\u001b[38;5;241m.\u001b[39mylabel(\u001b[38;5;124m'\u001b[39m\u001b[38;5;124mAltitude [m]\u001b[39m\u001b[38;5;124m'\u001b[39m)\n",
      "\u001b[0;31mNameError\u001b[0m: name 'baum_species' is not defined"
     ]
    }
   ],
   "source": [
    "altitudes = np.arange(10000, 20000, 10)\n",
    "\n",
    "cloud_dens = baum_species.climatology.get_parameter('icecloud', latitude=0, longitude=0, mjd=54372, altitudes=altitudes)\n",
    "\n",
    "plt.plot(cloud_dens, altitudes)\n",
    "plt.ylabel('Altitude [m]')\n",
    "plt.xlabel('Number Density [/cm3]')"
   ]
  },
  {
   "cell_type": "raw",
   "metadata": {
    "raw_mimetype": "text/restructuredtext"
   },
   "source": [
    "We can now set up the HR engine and add the species to it as we would any other species.  "
   ]
  },
  {
   "cell_type": "code",
   "execution_count": 4,
   "metadata": {
    "execution": {
     "iopub.execute_input": "2023-07-06T16:53:51.856668Z",
     "iopub.status.busy": "2023-07-06T16:53:51.856042Z",
     "iopub.status.idle": "2023-07-06T16:53:51.893177Z",
     "shell.execute_reply": "2023-07-06T16:53:51.892304Z"
    }
   },
   "outputs": [
    {
     "ename": "NameError",
     "evalue": "name 'baum_species' is not defined",
     "output_type": "error",
     "traceback": [
      "\u001b[0;31m---------------------------------------------------------------------------\u001b[0m",
      "\u001b[0;31mNameError\u001b[0m                                 Traceback (most recent call last)",
      "Cell \u001b[0;32mIn[4], line 12\u001b[0m\n\u001b[1;32m     10\u001b[0m atmosphere[\u001b[38;5;124m'\u001b[39m\u001b[38;5;124mozone\u001b[39m\u001b[38;5;124m'\u001b[39m] \u001b[38;5;241m=\u001b[39m sk\u001b[38;5;241m.\u001b[39mSpecies(sk\u001b[38;5;241m.\u001b[39mO3OSIRISRes(), sk\u001b[38;5;241m.\u001b[39mLabow())\n\u001b[1;32m     11\u001b[0m atmosphere[\u001b[38;5;124m'\u001b[39m\u001b[38;5;124mair\u001b[39m\u001b[38;5;124m'\u001b[39m] \u001b[38;5;241m=\u001b[39m sk\u001b[38;5;241m.\u001b[39mSpecies(sk\u001b[38;5;241m.\u001b[39mRayleigh(), sk\u001b[38;5;241m.\u001b[39mMSIS90())\n\u001b[0;32m---> 12\u001b[0m atmosphere[\u001b[38;5;124m'\u001b[39m\u001b[38;5;124mcloud\u001b[39m\u001b[38;5;124m'\u001b[39m] \u001b[38;5;241m=\u001b[39m \u001b[43mbaum_species\u001b[49m\n\u001b[1;32m     14\u001b[0m \u001b[38;5;66;03m# And now make the engine\u001b[39;00m\n\u001b[1;32m     15\u001b[0m engine \u001b[38;5;241m=\u001b[39m sk\u001b[38;5;241m.\u001b[39mEngineHR(geometry\u001b[38;5;241m=\u001b[39mgeometry, atmosphere\u001b[38;5;241m=\u001b[39matmosphere)\n",
      "\u001b[0;31mNameError\u001b[0m: name 'baum_species' is not defined"
     ]
    }
   ],
   "source": [
    "tanalts_km = np.arange(10, 50, 1)\n",
    "\n",
    "# First recreate our geometry and atmosphere classes\n",
    "geometry = sk.VerticalImage()\n",
    "geometry.from_sza_saa(sza=60, saa=60, lat=0, lon=0, tanalts_km=tanalts_km, mjd=54372, locallook=0,\n",
    "                      satalt_km=600, refalt_km=20)\n",
    "\n",
    "atmosphere = sk.Atmosphere()\n",
    "\n",
    "atmosphere['ozone'] = sk.Species(sk.O3OSIRISRes(), sk.Labow())\n",
    "atmosphere['air'] = sk.Species(sk.Rayleigh(), sk.MSIS90())\n",
    "atmosphere['cloud'] = baum_species\n",
    "\n",
    "# And now make the engine\n",
    "engine = sk.EngineHR(geometry=geometry, atmosphere=atmosphere)\n",
    "\n",
    "# Choose some wavelengths to do the calculation at\n",
    "engine.wavelengths = [340, 800]"
   ]
  },
  {
   "cell_type": "raw",
   "metadata": {
    "raw_mimetype": "text/restructuredtext"
   },
   "source": [
    "But before we run the calculation we should modify some settings in the engine to account for the cloud accurately."
   ]
  },
  {
   "cell_type": "markdown",
   "metadata": {},
   "source": [
    "## Setting the model parameters"
   ]
  },
  {
   "cell_type": "raw",
   "metadata": {
    "raw_mimetype": "text/restructuredtext"
   },
   "source": [
    "The default vertical resolution of SASKTRAN-HR is ~1000 m, however clouds typically have fine structures and the cloud included above is calculated at a 10 m resolution by default.  We could set the grid spacing of HR to be 10 m, however this would result in a very slow calculation.  It also is not necessary because the cloud is localized over a few km, we do not need 10 m resolution throughout the entire atmosphere.  There are also several settings related to the adaptive integration of rays that should be used when including clouds.  For convenience the :py:meth:`configure_for_cloud <sasktran.EngineHR.configure_for_cloud>` method will set most of these things."
   ]
  },
  {
   "cell_type": "code",
   "execution_count": 5,
   "metadata": {
    "execution": {
     "iopub.execute_input": "2023-07-06T16:53:51.897538Z",
     "iopub.status.busy": "2023-07-06T16:53:51.896881Z",
     "iopub.status.idle": "2023-07-06T16:53:51.918911Z",
     "shell.execute_reply": "2023-07-06T16:53:51.918105Z"
    }
   },
   "outputs": [
    {
     "ename": "NameError",
     "evalue": "name 'engine' is not defined",
     "output_type": "error",
     "traceback": [
      "\u001b[0;31m---------------------------------------------------------------------------\u001b[0m",
      "\u001b[0;31mNameError\u001b[0m                                 Traceback (most recent call last)",
      "Cell \u001b[0;32mIn[5], line 1\u001b[0m\n\u001b[0;32m----> 1\u001b[0m \u001b[43mengine\u001b[49m\u001b[38;5;241m.\u001b[39mconfigure_for_cloud(cloud_altitudes\u001b[38;5;241m=\u001b[39mbaum_species\u001b[38;5;241m.\u001b[39maltitude_grid, grid_spacing_m\u001b[38;5;241m=\u001b[39m\u001b[38;5;241m1000\u001b[39m)\n\u001b[1;32m      3\u001b[0m rad \u001b[38;5;241m=\u001b[39m engine\u001b[38;5;241m.\u001b[39mcalculate_radiance()\n\u001b[1;32m      4\u001b[0m plt\u001b[38;5;241m.\u001b[39mplot(rad\u001b[38;5;241m.\u001b[39mT, tanalts_km)\n",
      "\u001b[0;31mNameError\u001b[0m: name 'engine' is not defined"
     ]
    }
   ],
   "source": [
    "engine.configure_for_cloud(cloud_altitudes=baum_species.altitude_grid, grid_spacing_m=1000)\n",
    "\n",
    "rad = engine.calculate_radiance()\n",
    "plt.plot(rad.T, tanalts_km)\n",
    "plt.ylabel('Altitude [km]')\n",
    "plt.xlabel('Radiance')"
   ]
  }
 ],
 "metadata": {
  "celltoolbar": "Raw Cell Format",
  "kernelspec": {
   "display_name": "Python 3",
   "language": "python",
   "name": "python3"
  },
  "language_info": {
   "codemirror_mode": {
    "name": "ipython",
    "version": 3
   },
   "file_extension": ".py",
   "mimetype": "text/x-python",
   "name": "python",
   "nbconvert_exporter": "python",
   "pygments_lexer": "ipython3",
   "version": "3.9.17"
  }
 },
 "nbformat": 4,
 "nbformat_minor": 4
}
